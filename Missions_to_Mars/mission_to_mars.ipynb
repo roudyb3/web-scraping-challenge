{
 "cells": [
  {
   "cell_type": "code",
   "execution_count": 31,
   "id": "ff7ae679",
   "metadata": {},
   "outputs": [],
   "source": [
    "#dependencies\n",
    "import os\n",
    "from bs4 import BeautifulSoup as bs\n",
    "import requests"
   ]
  },
  {
   "cell_type": "code",
   "execution_count": 32,
   "id": "ff858678",
   "metadata": {},
   "outputs": [],
   "source": [
    "#add in Mars page to be scraped\n",
    "url = 'https://redplanetscience.com/#'"
   ]
  },
  {
   "cell_type": "code",
   "execution_count": 33,
   "id": "a009fd84",
   "metadata": {},
   "outputs": [],
   "source": [
    "#retrieve page with the request module\n",
    "response = requests.get(url)"
   ]
  },
  {
   "cell_type": "code",
   "execution_count": 34,
   "id": "b0dd958b",
   "metadata": {},
   "outputs": [
    {
     "data": {
      "text/plain": [
       "'News - Mars Exploration Program'"
      ]
     },
     "execution_count": 34,
     "metadata": {},
     "output_type": "execute_result"
    }
   ],
   "source": [
    "#create the beautiful soup object\n",
    "soup = bs(response.text, 'html.parser')\n",
    "soup.title.text"
   ]
  },
  {
   "cell_type": "code",
   "execution_count": 37,
   "id": "8d729bc8",
   "metadata": {},
   "outputs": [],
   "source": [
    "print(soup.prettify())"
   ]
  },
  {
   "cell_type": "code",
   "execution_count": 36,
   "id": "414c712b",
   "metadata": {},
   "outputs": [
    {
     "data": {
      "text/plain": [
       "[]"
      ]
     },
     "execution_count": 36,
     "metadata": {},
     "output_type": "execute_result"
    }
   ],
   "source": [
    "#find the titles\n",
    "title = soup.find_all('div', class_='content_title')\n",
    "title"
   ]
  },
  {
   "cell_type": "code",
   "execution_count": null,
   "id": "5ff982da",
   "metadata": {},
   "outputs": [],
   "source": [
    "#loop through to pick up the title\n",
    "#for result in results:\n",
    "    #title = result.find('div', class_='content_title')\n",
    "    \n",
    "    #content_title = title.div.text\n",
    "   # print(content_title)"
   ]
  },
  {
   "cell_type": "code",
   "execution_count": null,
   "id": "d827b83c",
   "metadata": {},
   "outputs": [],
   "source": []
  }
 ],
 "metadata": {
  "kernelspec": {
   "display_name": "Python 3",
   "language": "python",
   "name": "python3"
  },
  "language_info": {
   "codemirror_mode": {
    "name": "ipython",
    "version": 3
   },
   "file_extension": ".py",
   "mimetype": "text/x-python",
   "name": "python",
   "nbconvert_exporter": "python",
   "pygments_lexer": "ipython3",
   "version": "3.8.8"
  }
 },
 "nbformat": 4,
 "nbformat_minor": 5
}
