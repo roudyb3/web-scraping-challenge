{
 "cells": [
  {
   "cell_type": "markdown",
   "id": "039aa493",
   "metadata": {},
   "source": [
    "## Import dependencies and open chrome browser"
   ]
  },
  {
   "cell_type": "code",
   "execution_count": 1,
   "id": "8e70a641",
   "metadata": {},
   "outputs": [
    {
     "name": "stderr",
     "output_type": "stream",
     "text": [
      "\n",
      "\n",
      "====== WebDriver manager ======\n",
      "Current google-chrome version is 95.0.4638\n",
      "Get LATEST driver version for 95.0.4638\n",
      "Driver [/Users/roudyb/.wdm/drivers/chromedriver/mac64/95.0.4638.54/chromedriver] found in cache\n"
     ]
    }
   ],
   "source": [
    "#import dependencies\n",
    "import os\n",
    "from splinter import Browser\n",
    "from bs4 import BeautifulSoup as bs\n",
    "from webdriver_manager.chrome import ChromeDriverManager\n",
    "import time\n",
    "import pandas as pd\n",
    "\n",
    "#open a chrome browser\n",
    "executable_path = {'executable_path': ChromeDriverManager().install()}\n",
    "browser = Browser('chrome', **executable_path, headless=False)"
   ]
  },
  {
   "cell_type": "code",
   "execution_count": 2,
   "id": "d92857bd",
   "metadata": {},
   "outputs": [
    {
     "name": "stdout",
     "output_type": "stream",
     "text": [
      "News - Mars Exploration Program\n",
      "NASA to Hold Mars 2020 Perseverance Rover Launch Briefing\n",
      "Learn more about the agency's next Red Planet mission during a live event on June 17.\n"
     ]
    }
   ],
   "source": [
    "#add in Mars page to be scraped\n",
    "url = 'https://redplanetscience.com/'\n",
    "browser.visit(url)\n",
    "time.sleep(1)\n",
    "html = browser.html\n",
    "\n",
    "#create the beautiful soup object\n",
    "soup = bs(html, 'html.parser')\n",
    "print(soup.title.text)\n",
    "# print(soup.prettify())\n",
    "\n",
    "#find the titles\n",
    "title = soup.find_all('div', class_='content_title')\n",
    "news_title = title[0].text\n",
    "print(news_title)\n",
    "\n",
    "paragraph = soup.find_all('div', class_ = 'article_teaser_body')\n",
    "news_p = paragraph[0].text\n",
    "print(news_p)"
   ]
  },
  {
   "cell_type": "code",
   "execution_count": 3,
   "id": "13e27102",
   "metadata": {},
   "outputs": [
    {
     "name": "stdout",
     "output_type": "stream",
     "text": [
      "Space Image\n",
      "https://spaceimages-mars.com/image/featured/mars1.jpg\n"
     ]
    }
   ],
   "source": [
    "#Step 2 -- Mars Featured Image\n",
    "\n",
    "url_img = 'https://spaceimages-mars.com/'\n",
    "browser.visit(url_img)\n",
    "\n",
    "#create the beautiful soup object\n",
    "html_img = browser.html\n",
    "soup_img = bs(html_img, 'html.parser')\n",
    "print(soup_img.title.text)\n",
    "\n",
    "\n",
    "browser.links.find_by_partial_text('FULL IMAGE').click()\n",
    "img = soup_img.find_all('a', class_= 'showimg fancybox-thumbs')\n",
    "\n",
    "for i in img:\n",
    "    featured_image_url = (url_img + i['href'])\n",
    "    \n",
    "print(featured_image_url)"
   ]
  },
  {
   "cell_type": "markdown",
   "id": "f3f7929d",
   "metadata": {},
   "source": [
    "## Mars Facts"
   ]
  },
  {
   "cell_type": "code",
   "execution_count": 4,
   "id": "23e272d2",
   "metadata": {},
   "outputs": [],
   "source": [
    "url = 'https://galaxyfacts-mars.com/'\n",
    "\n",
    "#bring in the tables from the galaxy facts website\n",
    "tables = pd.read_html(url)\n",
    "# print(tables)\n",
    "\n",
    "#check the total number of tables pandas found\n",
    "# print(len(tables))\n",
    "\n",
    "#check out which table we need of the 2\n",
    "# print(tables[0])\n",
    "\n",
    "#turn the table into a dataframe\n",
    "mars_df = tables[0]\n",
    "\n",
    "## JAY NOTE: USE PANDAS TO CREATE CORRECT OUTPUT TABLE FORMAT\n",
    "\n",
    "#Change the column names\n",
    "mars_df = mars_df.rename(columns={0: 'Parameters', 1: \"Mars\", 2: \"Earth\"})\n",
    "\n",
    "mars_df = mars_df.drop(0)\n",
    "\n",
    "#Set the index\n",
    "mars_df = mars_df.set_index('Parameters')\n",
    "\n",
    "html_table = mars_df.to_html()\n",
    "\n",
    "mars_df.to_html('mars_df.html')\n",
    "\n",
    "# !open mars_df.html"
   ]
  },
  {
   "cell_type": "markdown",
   "id": "aead53d2",
   "metadata": {},
   "source": [
    "## Mars Hemisphere"
   ]
  },
  {
   "cell_type": "code",
   "execution_count": 5,
   "id": "9830a7ef",
   "metadata": {},
   "outputs": [
    {
     "name": "stdout",
     "output_type": "stream",
     "text": [
      "['https://marshemispheres.com/images/schiaparelli_enhanced-full.jpg', 'https://marshemispheres.com/images/syrtis_major_enhanced-full.jpg', 'https://marshemispheres.com/images/valles_marineris_enhanced-full.jpg', 'https://marshemispheres.com/images/full.jpg']\n"
     ]
    }
   ],
   "source": [
    "#add in Mars Hemisphere page to scrape images\n",
    "url_hem = 'https://marshemispheres.com/'\n",
    "browser.visit(url_hem)\n",
    "\n",
    "#create the beautiful soup object\n",
    "html = browser.html\n",
    "soup = bs(html, 'html.parser')\n",
    "soup.title.text\n",
    "\n",
    "img_list = soup.find_all('a', class_= 'itemLink product-item')\n",
    "\n",
    "hrefs = []\n",
    "for x in img_list:\n",
    "    hrefs.append(x['href'])\n",
    "hrefs = hrefs[:-1]\n",
    "hrefs = list(set(hrefs))\n",
    "\n",
    "final_image_urls = []\n",
    "for href in hrefs:\n",
    "\n",
    "    img_url = url_hem + href\n",
    "    browser.visit(img_url)\n",
    "\n",
    "    html = browser.html\n",
    "    soup = bs(html, 'html.parser')\n",
    "\n",
    "    urls = soup.find_all('a', text='Sample')\n",
    "\n",
    "    final_image_url = url_hem + urls[0]['href']\n",
    "    final_image_urls.append(final_image_url)\n",
    "    \n",
    "print(final_image_urls)"
   ]
  },
  {
   "cell_type": "code",
   "execution_count": 6,
   "id": "c7b3f6af",
   "metadata": {},
   "outputs": [],
   "source": [
    "browser.quit()"
   ]
  },
  {
   "cell_type": "markdown",
   "id": "e60603b3",
   "metadata": {},
   "source": [
    "## Data Assembly"
   ]
  },
  {
   "cell_type": "code",
   "execution_count": 8,
   "id": "d1596753",
   "metadata": {},
   "outputs": [
    {
     "data": {
      "text/plain": [
       "{'news_title': 'NASA to Hold Mars 2020 Perseverance Rover Launch Briefing',\n",
       " 'news_p': \"Learn more about the agency's next Red Planet mission during a live event on June 17.\",\n",
       " 'featured_image_url': 'https://spaceimages-mars.com/image/featured/mars1.jpg',\n",
       " 'html_table': '<table border=\"1\" class=\"dataframe\">\\n  <thead>\\n    <tr style=\"text-align: right;\">\\n      <th></th>\\n      <th>Mars</th>\\n      <th>Earth</th>\\n    </tr>\\n    <tr>\\n      <th>Parameters</th>\\n      <th></th>\\n      <th></th>\\n    </tr>\\n  </thead>\\n  <tbody>\\n    <tr>\\n      <th>Diameter:</th>\\n      <td>6,779 km</td>\\n      <td>12,742 km</td>\\n    </tr>\\n    <tr>\\n      <th>Mass:</th>\\n      <td>6.39 × 10^23 kg</td>\\n      <td>5.97 × 10^24 kg</td>\\n    </tr>\\n    <tr>\\n      <th>Moons:</th>\\n      <td>2</td>\\n      <td>1</td>\\n    </tr>\\n    <tr>\\n      <th>Distance from Sun:</th>\\n      <td>227,943,824 km</td>\\n      <td>149,598,262 km</td>\\n    </tr>\\n    <tr>\\n      <th>Length of Year:</th>\\n      <td>687 Earth days</td>\\n      <td>365.24 days</td>\\n    </tr>\\n    <tr>\\n      <th>Temperature:</th>\\n      <td>-87 to -5 °C</td>\\n      <td>-88 to 58°C</td>\\n    </tr>\\n  </tbody>\\n</table>',\n",
       " 'final_image_urls': ['https://marshemispheres.com/images/schiaparelli_enhanced-full.jpg',\n",
       "  'https://marshemispheres.com/images/syrtis_major_enhanced-full.jpg',\n",
       "  'https://marshemispheres.com/images/valles_marineris_enhanced-full.jpg',\n",
       "  'https://marshemispheres.com/images/full.jpg']}"
      ]
     },
     "execution_count": 8,
     "metadata": {},
     "output_type": "execute_result"
    }
   ],
   "source": [
    "mongo_dictionary = {'news_title': news_title, \n",
    "                    'news_p': news_p, \n",
    "                    'featured_image_url': featured_image_url, \n",
    "                    'html_table': html_table, \n",
    "                    'final_image_urls': final_image_urls}\n",
    "\n",
    "mongo_dictionary"
   ]
  }
 ],
 "metadata": {
  "kernelspec": {
   "display_name": "Python 3",
   "language": "python",
   "name": "python3"
  },
  "language_info": {
   "codemirror_mode": {
    "name": "ipython",
    "version": 3
   },
   "file_extension": ".py",
   "mimetype": "text/x-python",
   "name": "python",
   "nbconvert_exporter": "python",
   "pygments_lexer": "ipython3",
   "version": "3.8.8"
  }
 },
 "nbformat": 4,
 "nbformat_minor": 5
}
